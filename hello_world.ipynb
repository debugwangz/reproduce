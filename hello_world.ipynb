{
 "cells": [
  {
   "cell_type": "code",
   "id": "initial_id",
   "metadata": {
    "collapsed": true,
    "ExecuteTime": {
     "end_time": "2024-11-03T04:33:15.734699Z",
     "start_time": "2024-11-03T04:31:09.686034Z"
    }
   },
   "source": "!pip install lightning",
   "outputs": [
    {
     "name": "stdout",
     "output_type": "stream",
     "text": [
      "Collecting lightning\n",
      "  Downloading lightning-2.3.3-py3-none-any.whl.metadata (35 kB)\n",
      "Requirement already satisfied: PyYAML<8.0,>=5.4 in d:\\anaconda3\\envs\\py38\\lib\\site-packages (from lightning) (6.0.1)\n",
      "Requirement already satisfied: fsspec<2026.0,>=2022.5.0 in d:\\anaconda3\\envs\\py38\\lib\\site-packages (from fsspec[http]<2026.0,>=2022.5.0->lightning) (2024.2.0)\n",
      "Collecting lightning-utilities<2.0,>=0.10.0 (from lightning)\n",
      "  Downloading lightning_utilities-0.11.8-py3-none-any.whl.metadata (5.2 kB)\n",
      "Requirement already satisfied: numpy<3.0,>=1.17.2 in d:\\anaconda3\\envs\\py38\\lib\\site-packages (from lightning) (1.24.4)\n",
      "Requirement already satisfied: packaging<25.0,>=20.0 in d:\\anaconda3\\envs\\py38\\lib\\site-packages (from lightning) (24.1)\n",
      "Requirement already satisfied: torch<4.0,>=2.0.0 in d:\\anaconda3\\envs\\py38\\lib\\site-packages (from lightning) (2.4.1+cu118)\n",
      "Collecting torchmetrics<3.0,>=0.7.0 (from lightning)\n",
      "  Downloading torchmetrics-1.5.1-py3-none-any.whl.metadata (20 kB)\n",
      "Collecting tqdm<6.0,>=4.57.0 (from lightning)\n",
      "  Downloading tqdm-4.66.6-py3-none-any.whl.metadata (57 kB)\n",
      "Requirement already satisfied: typing-extensions<6.0,>=4.4.0 in d:\\anaconda3\\envs\\py38\\lib\\site-packages (from lightning) (4.11.0)\n",
      "Collecting pytorch-lightning (from lightning)\n",
      "  Downloading pytorch_lightning-2.4.0-py3-none-any.whl.metadata (21 kB)\n",
      "Collecting aiohttp!=4.0.0a0,!=4.0.0a1 (from fsspec[http]<2026.0,>=2022.5.0->lightning)\n",
      "  Downloading aiohttp-3.10.10-cp38-cp38-win_amd64.whl.metadata (7.8 kB)\n",
      "Requirement already satisfied: setuptools in d:\\anaconda3\\envs\\py38\\lib\\site-packages (from lightning-utilities<2.0,>=0.10.0->lightning) (75.1.0)\n",
      "Requirement already satisfied: filelock in d:\\anaconda3\\envs\\py38\\lib\\site-packages (from torch<4.0,>=2.0.0->lightning) (3.13.1)\n",
      "Requirement already satisfied: sympy in d:\\anaconda3\\envs\\py38\\lib\\site-packages (from torch<4.0,>=2.0.0->lightning) (1.12)\n",
      "Requirement already satisfied: networkx in d:\\anaconda3\\envs\\py38\\lib\\site-packages (from torch<4.0,>=2.0.0->lightning) (3.0)\n",
      "Requirement already satisfied: jinja2 in d:\\anaconda3\\envs\\py38\\lib\\site-packages (from torch<4.0,>=2.0.0->lightning) (3.1.3)\n",
      "Requirement already satisfied: colorama in d:\\anaconda3\\envs\\py38\\lib\\site-packages (from tqdm<6.0,>=4.57.0->lightning) (0.4.6)\n",
      "Collecting aiohappyeyeballs>=2.3.0 (from aiohttp!=4.0.0a0,!=4.0.0a1->fsspec[http]<2026.0,>=2022.5.0->lightning)\n",
      "  Downloading aiohappyeyeballs-2.4.3-py3-none-any.whl.metadata (6.1 kB)\n",
      "Collecting aiosignal>=1.1.2 (from aiohttp!=4.0.0a0,!=4.0.0a1->fsspec[http]<2026.0,>=2022.5.0->lightning)\n",
      "  Downloading aiosignal-1.3.1-py3-none-any.whl.metadata (4.0 kB)\n",
      "Requirement already satisfied: attrs>=17.3.0 in d:\\anaconda3\\envs\\py38\\lib\\site-packages (from aiohttp!=4.0.0a0,!=4.0.0a1->fsspec[http]<2026.0,>=2022.5.0->lightning) (23.1.0)\n",
      "Collecting frozenlist>=1.1.1 (from aiohttp!=4.0.0a0,!=4.0.0a1->fsspec[http]<2026.0,>=2022.5.0->lightning)\n",
      "  Downloading frozenlist-1.5.0-cp38-cp38-win_amd64.whl.metadata (14 kB)\n",
      "Collecting multidict<7.0,>=4.5 (from aiohttp!=4.0.0a0,!=4.0.0a1->fsspec[http]<2026.0,>=2022.5.0->lightning)\n",
      "  Downloading multidict-6.1.0-cp38-cp38-win_amd64.whl.metadata (5.1 kB)\n",
      "Collecting yarl<2.0,>=1.12.0 (from aiohttp!=4.0.0a0,!=4.0.0a1->fsspec[http]<2026.0,>=2022.5.0->lightning)\n",
      "  Downloading yarl-1.15.2-cp38-cp38-win_amd64.whl.metadata (58 kB)\n",
      "Collecting async-timeout<5.0,>=4.0 (from aiohttp!=4.0.0a0,!=4.0.0a1->fsspec[http]<2026.0,>=2022.5.0->lightning)\n",
      "  Downloading async_timeout-4.0.3-py3-none-any.whl.metadata (4.2 kB)\n",
      "Requirement already satisfied: MarkupSafe>=2.0 in d:\\anaconda3\\envs\\py38\\lib\\site-packages (from jinja2->torch<4.0,>=2.0.0->lightning) (2.1.3)\n",
      "Requirement already satisfied: mpmath>=0.19 in d:\\anaconda3\\envs\\py38\\lib\\site-packages (from sympy->torch<4.0,>=2.0.0->lightning) (1.3.0)\n",
      "Requirement already satisfied: idna>=2.0 in d:\\anaconda3\\envs\\py38\\lib\\site-packages (from yarl<2.0,>=1.12.0->aiohttp!=4.0.0a0,!=4.0.0a1->fsspec[http]<2026.0,>=2022.5.0->lightning) (3.7)\n",
      "Collecting propcache>=0.2.0 (from yarl<2.0,>=1.12.0->aiohttp!=4.0.0a0,!=4.0.0a1->fsspec[http]<2026.0,>=2022.5.0->lightning)\n",
      "  Downloading propcache-0.2.0-cp38-cp38-win_amd64.whl.metadata (7.9 kB)\n",
      "Downloading lightning-2.3.3-py3-none-any.whl (808 kB)\n",
      "   ---------------------------------------- 0.0/808.5 kB ? eta -:--:--\n",
      "   ---------------------------------------- 0.0/808.5 kB ? eta -:--:--\n",
      "   ---------------------------------------- 0.0/808.5 kB ? eta -:--:--\n",
      "   ------------ --------------------------- 262.1/808.5 kB ? eta -:--:--\n",
      "   ------------ --------------------------- 262.1/808.5 kB ? eta -:--:--\n",
      "   ---------------------------------------- 808.5/808.5 kB 1.1 MB/s eta 0:00:00\n",
      "Downloading lightning_utilities-0.11.8-py3-none-any.whl (26 kB)\n",
      "Downloading torchmetrics-1.5.1-py3-none-any.whl (890 kB)\n",
      "   ---------------------------------------- 0.0/890.6 kB ? eta -:--:--\n",
      "   ---------------------------------------- 890.6/890.6 kB 5.0 MB/s eta 0:00:00\n",
      "Downloading tqdm-4.66.6-py3-none-any.whl (78 kB)\n",
      "Downloading pytorch_lightning-2.4.0-py3-none-any.whl (815 kB)\n",
      "   ---------------------------------------- 0.0/815.2 kB ? eta -:--:--\n",
      "   ---------------------------------------- 815.2/815.2 kB 8.9 MB/s eta 0:00:00\n",
      "Downloading aiohttp-3.10.10-cp38-cp38-win_amd64.whl (383 kB)\n",
      "Downloading aiohappyeyeballs-2.4.3-py3-none-any.whl (14 kB)\n",
      "Downloading aiosignal-1.3.1-py3-none-any.whl (7.6 kB)\n",
      "Downloading async_timeout-4.0.3-py3-none-any.whl (5.7 kB)\n",
      "Downloading frozenlist-1.5.0-cp38-cp38-win_amd64.whl (51 kB)\n",
      "Downloading multidict-6.1.0-cp38-cp38-win_amd64.whl (28 kB)\n",
      "Downloading yarl-1.15.2-cp38-cp38-win_amd64.whl (84 kB)\n",
      "Downloading propcache-0.2.0-cp38-cp38-win_amd64.whl (45 kB)\n",
      "Installing collected packages: tqdm, propcache, multidict, lightning-utilities, frozenlist, async-timeout, aiohappyeyeballs, yarl, aiosignal, torchmetrics, aiohttp, pytorch-lightning, lightning\n",
      "Successfully installed aiohappyeyeballs-2.4.3 aiohttp-3.10.10 aiosignal-1.3.1 async-timeout-4.0.3 frozenlist-1.5.0 lightning-2.3.3 lightning-utilities-0.11.8 multidict-6.1.0 propcache-0.2.0 pytorch-lightning-2.4.0 torchmetrics-1.5.1 tqdm-4.66.6 yarl-1.15.2\n"
     ]
    }
   ],
   "execution_count": 1
  },
  {
   "metadata": {},
   "cell_type": "code",
   "outputs": [],
   "execution_count": null,
   "source": "",
   "id": "4fbb869bf86668a1"
  }
 ],
 "metadata": {
  "kernelspec": {
   "display_name": "Python 3",
   "language": "python",
   "name": "python3"
  },
  "language_info": {
   "codemirror_mode": {
    "name": "ipython",
    "version": 2
   },
   "file_extension": ".py",
   "mimetype": "text/x-python",
   "name": "python",
   "nbconvert_exporter": "python",
   "pygments_lexer": "ipython2",
   "version": "2.7.6"
  }
 },
 "nbformat": 4,
 "nbformat_minor": 5
}
